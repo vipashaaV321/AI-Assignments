{
 "cells": [
  {
   "cell_type": "code",
   "execution_count": 1,
   "metadata": {},
   "outputs": [
    {
     "name": "stdout",
     "output_type": "stream",
     "text": [
      "Heart Disease Prediction Model\n",
      "\n",
      "Here 0 Indicates False And 1 indicates True\n",
      "\n",
      "| Blood Pressure>140 mmHG | Total cholesterol> 200 milligrams | Unhealthy Diet | Prediction |\n",
      "---------------------------------------------------------------------------------------------\n",
      "| 0                       | 0                                 | 0             | 0           |\n",
      "| 0                       | 0                                 | 1             | 0           |\n",
      "| 0                       | 1                                 | 0             | 0           |\n",
      "| 0                       | 1                                 | 1             | 0           |\n",
      "| 1                       | 0                                 | 0             | 0           |\n",
      "| 1                       | 0                                 | 1             | 0           |\n",
      "| 1                       | 1                                 | 0             | 0           |\n",
      "| 1                       | 1                                 | 1             | 1           |\n",
      "\n",
      "\n"
     ]
    }
   ],
   "source": [
    "import time\n",
    "import numpy as np\n",
    "\n",
    "class Perceptron:\n",
    "\n",
    "\tdef __init__(self):\n",
    "\t\tnp.random.seed(1)\n",
    "\t\tself.weights = np.random.random(3)\n",
    "\n",
    "\tdef activation(self,x):\n",
    "\t\tif x>0.5:\n",
    "\t\t\treturn 1\n",
    "\t\treturn 0\n",
    "\n",
    "\tdef train(self,inputs,outputs):\n",
    "\t\tself.training_outputs = outputs\n",
    "\t\tfor i in range(100):\n",
    "\t\t\tfor j in range(len(inputs)):\n",
    "\t\t\t\tw_sum = np.dot(inputs[j],self.weights)\n",
    "\t\t\t\tyin = self.activation(w_sum)\n",
    "\t\t\t\terror = self.training_outputs[j] - yin\n",
    "\t\t\t\tself.weights += (0.05*error*inputs[j])\n",
    "\n",
    "\tdef predict(self,inputs):\n",
    "\t\ttemp = []\n",
    "\t\tfor i in inputs:\n",
    "\t\t\ty = self.activation(np.dot(i,self.weights))\n",
    "\t\t\ttemp.append(y)\n",
    "\t\treturn np.array(temp)\n",
    "\n",
    "if __name__ == \"__main__\":\n",
    "\tip = np.array([\n",
    "\t\t[0,0,0],\n",
    "\t\t[0,0,1],\n",
    "\t\t[0,1,0],\n",
    "\t\t[0,1,1],\n",
    "\t\t[1,0,0],\n",
    "\t\t[1,0,1],\n",
    "\t\t[1,1,0],\n",
    "\t\t[1,1,1],\n",
    "\t\t])\n",
    "\tor_op = np.array([0,1,1,1,1,1,1,1])\n",
    "\tand_op = np.array([0,0,0,0,0,0,0,1])\n",
    "\t\n",
    "\to = Perceptron()\n",
    "\n",
    "\tprint(\"Heart Disease Prediction Model\\n\")\n",
    "\to.train(ip,and_op)\n",
    "\ttime.sleep(2)\n",
    "\ty_pred = o.predict(ip)\n",
    "    \n",
    "\tprint(\"Here 0 Indicates False And 1 indicates True\\n\")\n",
    "\tprint(\"| Blood Pressure>140 mmHG | Total cholesterol> 200 milligrams | Unhealthy Diet | Prediction |\")\n",
    "\tprint(\"---------------------------------------------------------------------------------------------\")\n",
    "\tfor i in range(len(y_pred)):\n",
    "\t\tprint(\"| {0}                       | {1}                                 | {2}             | {3}           |\".format(ip[i][0],ip[i][1],ip[i][2],y_pred[i]))\n",
    "\n",
    "\tprint(\"\\n\")"
   ]
  },
  {
   "cell_type": "code",
   "execution_count": 3,
   "metadata": {},
   "outputs": [
    {
     "data": {
      "text/plain": [
       "[<matplotlib.lines.Line2D at 0x193db29bbc8>,\n",
       " <matplotlib.lines.Line2D at 0x193db295988>,\n",
       " <matplotlib.lines.Line2D at 0x193db2a3c48>]"
      ]
     },
     "execution_count": 3,
     "metadata": {},
     "output_type": "execute_result"
    },
    {
     "data": {
      "image/png": "[encoded data removed]",
      "text/plain": [
       "<Figure size 432x288 with 1 Axes>"
      ]
     },
     "metadata": {
      "needs_background": "light"
     },
     "output_type": "display_data"
    }
   ],
   "source": [
    "import matplotlib.pyplot as plt \n",
    "plt.plot(ip, y_pred, label = \"Graph\") "
   ]
  },
  {
   "cell_type": "code",
   "execution_count": null,
   "metadata": {},
   "outputs": [],
   "source": []
  }
 ],
 "metadata": {
  "kernelspec": {
   "display_name": "Python 3",
   "language": "python",
   "name": "python3"
  },
  "language_info": {
   "codemirror_mode": {
    "name": "ipython",
    "version": 3
   },
   "file_extension": ".py",
   "mimetype": "text/x-python",
   "name": "python",
   "nbconvert_exporter": "python",
   "pygments_lexer": "ipython3",
   "version": "3.7.7"
  }
 },
 "nbformat": 4,
 "nbformat_minor": 4
}
