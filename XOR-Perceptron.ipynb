{
 "cells": [
  {
   "cell_type": "code",
   "execution_count": 1,
   "metadata": {},
   "outputs": [],
   "source": [
    "import numpy as np\n",
    "class Perceptron(object):\n",
    "    def __init__(self,no_of_inputs,threshold=5,learning_rate=0.001):\n",
    "        self.threshold=threshold\n",
    "        self.learning_rate=learning_rate\n",
    "        self.weights=np.zeros(no_of_inputs+1)\n",
    "    def predict(self,inputs):\n",
    "        summation=np.dot(inputs,self.weights[1:])+self.weights[0]\n",
    "        #print(\"sum\")\n",
    "        ##print(summation)\n",
    "        #bias=self.weights[0]\n",
    "        #weights=self.weights\n",
    "        #print(bias)\n",
    "        #print(weights)\n",
    "        print(\"Inputs : \", inputs, end=\"\\t\")\n",
    "        print(\"Weights : \", self.weights[1:])\n",
    "        print(\"Bais : \", self.weights[0]) \n",
    "        if summation>0:\n",
    "            activation=1\n",
    "        else:\n",
    "            activation=0\n",
    "        return activation\n",
    "    def train(self,training_inputs,labels):\n",
    "        for _ in range(self.threshold):\n",
    "            for inputs,label in zip(training_inputs,labels):\n",
    "                prediction=self.predict(inputs)\n",
    "                self.weights[1:]+=self.learning_rate*(label-prediction)*inputs\n",
    "                self.weights[0]+=self.learning_rate*(label-prediction)"
   ]
  },
  {
   "cell_type": "code",
   "execution_count": 3,
   "metadata": {},
   "outputs": [
    {
     "name": "stdout",
     "output_type": "stream",
     "text": [
      "Inputs :  [1 1]\tWeights :  [0. 0.]\n",
      "Bais :  0.0\n",
      "Inputs :  [0 1]\tWeights :  [0. 0.]\n",
      "Bais :  0.0\n",
      "Inputs :  [1 0]\tWeights :  [0.    0.001]\n",
      "Bais :  0.001\n",
      "Inputs :  [0 0]\tWeights :  [0.    0.001]\n",
      "Bais :  0.001\n",
      "Inputs :  [1 1]\tWeights :  [0.    0.001]\n",
      "Bais :  0.0\n",
      "Inputs :  [0 1]\tWeights :  [-0.001  0.   ]\n",
      "Bais :  -0.001\n",
      "Inputs :  [1 0]\tWeights :  [-0.001  0.001]\n",
      "Bais :  0.0\n",
      "Inputs :  [0 0]\tWeights :  [0.    0.001]\n",
      "Bais :  0.001\n",
      "Inputs :  [1 1]\tWeights :  [0.    0.001]\n",
      "Bais :  0.0\n",
      "Inputs :  [0 1]\tWeights :  [-0.001  0.   ]\n",
      "Bais :  -0.001\n",
      "Inputs :  [1 0]\tWeights :  [-0.001  0.001]\n",
      "Bais :  0.0\n",
      "Inputs :  [0 0]\tWeights :  [0.    0.001]\n",
      "Bais :  0.001\n",
      "Inputs :  [1 1]\tWeights :  [0.    0.001]\n",
      "Bais :  0.0\n",
      "Inputs :  [0 1]\tWeights :  [-0.001  0.   ]\n",
      "Bais :  -0.001\n",
      "Inputs :  [1 0]\tWeights :  [-0.001  0.001]\n",
      "Bais :  0.0\n",
      "Inputs :  [0 0]\tWeights :  [0.    0.001]\n",
      "Bais :  0.001\n",
      "Inputs :  [1 1]\tWeights :  [0.    0.001]\n",
      "Bais :  0.0\n",
      "Inputs :  [0 1]\tWeights :  [-0.001  0.   ]\n",
      "Bais :  -0.001\n",
      "Inputs :  [1 0]\tWeights :  [-0.001  0.001]\n",
      "Bais :  0.0\n",
      "Inputs :  [0 0]\tWeights :  [0.    0.001]\n",
      "Bais :  0.001\n",
      "Inputs :  [1 0]\tWeights :  [0.    0.001]\n",
      "Bais :  0.0\n",
      "0\n",
      "Process Duration: 0:00:00.008973\n"
     ]
    }
   ],
   "source": [
    "import numpy as np\n",
    "\n",
    "from datetime import datetime\n",
    "start_time = datetime.now()\n",
    "\n",
    "\n",
    "training_inputs=[]\n",
    "training_inputs.append(np.array([1,1]))\n",
    "training_inputs.append(np.array([0,1]))\n",
    "training_inputs.append(np.array([1,0]))\n",
    "training_inputs.append(np.array([0,0]))\n",
    "\n",
    "labels=np.array([0,1,1,0])\n",
    "perceptron=Perceptron(2)\n",
    "perceptron.train(training_inputs,labels) \n",
    "\n",
    "\n",
    "inputs=np.array([1,0])\n",
    "\n",
    "print(perceptron.predict(inputs))\n",
    "end_time = datetime.now()\n",
    "print('Process Duration: {}'.format(end_time - start_time))"
   ]
  },
  {
   "cell_type": "code",
   "execution_count": 6,
   "metadata": {},
   "outputs": [
    {
     "data": {
      "image/png": "[encoded data removed]",
      "text/plain": [
       "<Figure size 432x288 with 1 Axes>"
      ]
     },
     "metadata": {
      "needs_background": "light"
     },
     "output_type": "display_data"
    }
   ],
   "source": [
    "from matplotlib import pyplot as plt \n",
    "plt.figure() \n",
    "plt.plot(inputs) \n",
    "plt.show() "
   ]
  },
  {
   "cell_type": "code",
   "execution_count": 7,
   "metadata": {},
   "outputs": [
    {
     "data": {
      "image/png": "[encoded data removed]",
      "text/plain": [
       "<Figure size 432x288 with 1 Axes>"
      ]
     },
     "metadata": {
      "needs_background": "light"
     },
     "output_type": "display_data"
    }
   ],
   "source": [
    "from matplotlib import pyplot as plt \n",
    "plt.figure() \n",
    "plt.plot(labels) \n",
    "plt.show() "
   ]
  },
  {
   "cell_type": "code",
   "execution_count": null,
   "metadata": {},
   "outputs": [],
   "source": [
    "#Here we can Conclude that XOR can not be train through single layer Perceptron\n",
    "#AS, XOR is non linear in nature, we can not get correct o/p here"
   ]
  }
 ],
 "metadata": {
  "kernelspec": {
   "display_name": "Python 3",
   "language": "python",
   "name": "python3"
  },
  "language_info": {
   "codemirror_mode": {
    "name": "ipython",
    "version": 3
   },
   "file_extension": ".py",
   "mimetype": "text/x-python",
   "name": "python",
   "nbconvert_exporter": "python",
   "pygments_lexer": "ipython3",
   "version": "3.7.7"
  }
 },
 "nbformat": 4,
 "nbformat_minor": 4
}
